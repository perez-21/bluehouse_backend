{
 "cells": [
  {
   "cell_type": "markdown",
   "metadata": {},
   "source": [
    "# Must Know\n",
    "For this project, you will need a solid understanding of several key concepts in order to develop a solution that can efficiently determine if all boxes can be opened. Here’s a list of concepts and resources that will be instrumental in tackling this project:\n",
    "\n",
    "# Concepts Needed:\n",
    "- Lists and List Manipulation:\n",
    "\n",
    "  Understanding how to work with lists, including accessing elements, iterating over lists, and modifying lists dynamically.\n",
    "  Python Lists [Python Official Documentation](https://docs.python.org/3/tutorial/datastructures.html)\n",
    "- Graph Theory Basics:\n",
    "  Although not explicitly required, knowledge of graph theory (especially concepts related to traversal algorithms like Depth-First Search or Breadth-First Search) can be very helpful in solving this problem, as the boxes and keys can be thought of as nodes and edges in a graph.\n",
    "  Graph Theory [Khan Academy](https://www.khanacademy.org/computing/computer-science/algorithms/graph-representation/a/representing-graphs)\n",
    "- Algorithmic Complexity:\n",
    "  Understanding the time and space complexity of your solution is important, as it can help in writing more efficient algorithms.\n",
    "  Big O Notation [GeeksforGeeks](https://www.geeksforgeeks.org/asymptotic-notation-and-analysis-based-on-input-size-of-algorithms/)\n",
    "- Recursion:\n",
    "  Some solutions might require a recursive approach to traverse through the boxes and keys.\n",
    "  Recursion in Python [Real Python](https://realpython.com/python-recursion/)\n",
    "- Queue and Stack:\n",
    "  Knowing how to use queues and stacks is crucial if implementing a breadth-first search (BFS) or depth-first search (DFS) algorithm to traverse through the keys and boxes.\n",
    "  Python Queue and Stack [GeeksforGeeks](https://www.geeksforgeeks.org/queue-in-python/)\n",
    "- Set Operations:\n",
    "  Understanding how to use sets for keeping track of visited boxes and available keys can optimize the search process.\n",
    "  Python Sets (Python Official Documentation) https://docs.python.org/3/tutorial/datastructures.html#sets\n",
    "\n",
    "By reviewing these concepts and utilizing these resources, you will be well-equipped to develop an efficient solution for this project, applying both your algorithmic thinking and Python programming skills.\n",
    "\n"
   ]
  },
  {
   "cell_type": "markdown",
   "metadata": {},
   "source": [
    "## Task 0\n",
    "\n",
    "You have n number of locked boxes in front of you. Each box is numbered sequentially from 0 to n - 1 and each box may contain keys to the other boxes.\n",
    "\n",
    "Write a method that determines if all the boxes can be opened.\n",
    "\n",
    "- Prototype: `def canUnlockAll(boxes)`\n",
    "- boxes is a list of lists\n",
    "- A key with the same number as a box opens that box\n",
    "- You can assume all keys will be positive integers\n",
    "- There can be keys that do not have boxes\n",
    "- The first box `boxes[0]` is unlocked\n",
    "- Return `True` if all boxes can be opened, else return `False`"
   ]
  },
  {
   "cell_type": "markdown",
   "metadata": {},
   "source": [
    "### Solution"
   ]
  },
  {
   "cell_type": "code",
   "execution_count": 18,
   "metadata": {},
   "outputs": [],
   "source": [
    "\n",
    "def depth_first_search(graph, node, visited=None):\n",
    "  if visited is None:\n",
    "    visited = set()\n",
    "  visited.add(node)\n",
    "\n",
    "  for neighbor in graph[node]:  \n",
    "    if neighbor not in visited and neighbor < len(graph):\n",
    "      depth_first_search(graph, neighbor, visited)\n",
    "  \n",
    "  return visited\n",
    "def canUnlockAll(boxes):\n",
    "  visited = depth_first_search(graph=boxes, node=0)\n",
    "  for i in range(1, len(boxes)):\n",
    "    if i in visited:\n",
    "      continue\n",
    "    return False\n",
    "  \n",
    "  return True\n"
   ]
  },
  {
   "cell_type": "markdown",
   "metadata": {},
   "source": [
    "### Test"
   ]
  },
  {
   "cell_type": "code",
   "execution_count": 19,
   "metadata": {},
   "outputs": [
    {
     "name": "stdout",
     "output_type": "stream",
     "text": [
      "True\n",
      "True\n",
      "False\n",
      "True\n",
      "False\n",
      "True\n",
      "True\n",
      "False\n",
      "True\n",
      "True\n"
     ]
    }
   ],
   "source": [
    "boxes = [[1], [2], [3], [4], []]\n",
    "print(canUnlockAll(boxes))  # True\n",
    "\n",
    "boxes = [[1, 4, 6], [2], [0, 4, 1], [5, 6, 2], [3], [4, 1], [6]]\n",
    "print(canUnlockAll(boxes))  # True\n",
    "\n",
    "boxes = [[1, 4], [2], [0, 4, 1], [3], [], [4, 1], [5, 6]]\n",
    "print(canUnlockAll(boxes))  # False\n",
    "\n",
    "boxes = [[1], []]\n",
    "print(canUnlockAll(boxes))  # True\n",
    "\n",
    "boxes = [[], [0]]\n",
    "print(canUnlockAll(boxes))  # False\n",
    "\n",
    "boxes = [[1, 2], [3], [], [4], []]\n",
    "print(canUnlockAll(boxes))  # True\n",
    "\n",
    "boxes = [[]]\n",
    "print(canUnlockAll(boxes))  # True\n",
    "\n",
    "boxes = [[1, 3], [3, 0, 1], [2], [4], []]\n",
    "print(canUnlockAll(boxes))  # False\n",
    "\n",
    "boxes = [[1, 2, 5], [3], [4], [], []]\n",
    "print(canUnlockAll(boxes))  # True\n",
    "\n",
    "boxes = [[1], [2], [3], [4], [5], []]\n",
    "print(canUnlockAll(boxes))  # True\n"
   ]
  }
 ],
 "metadata": {
  "kernelspec": {
   "display_name": "Python 3",
   "language": "python",
   "name": "python3"
  },
  "language_info": {
   "codemirror_mode": {
    "name": "ipython",
    "version": 3
   },
   "file_extension": ".py",
   "mimetype": "text/x-python",
   "name": "python",
   "nbconvert_exporter": "python",
   "pygments_lexer": "ipython3",
   "version": "3.11.8"
  }
 },
 "nbformat": 4,
 "nbformat_minor": 2
}
